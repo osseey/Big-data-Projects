{
  "cells": [
    {
      "cell_type": "markdown",
      "metadata": {
        "id": "YSK5cVe3dSvV"
      },
      "source": [
        "\n",
        "# Projet Maison 2"
      ]
    },
    {
      "cell_type": "code",
      "execution_count": 2,
      "metadata": {
        "scrolled": false,
        "id": "AedBD3Q6dSvj"
      },
      "outputs": [],
      "source": [
        "# import des modules usuels\n",
        "import numpy as np\n",
        "import pandas as pd\n",
        "\n",
        "# options d'affichage\n",
        "pd.set_option(\"display.min_rows\", 16)"
      ]
    },
    {
      "cell_type": "code",
      "execution_count": 3,
      "metadata": {
        "scrolled": true,
        "colab": {
          "base_uri": "https://localhost:8080/",
          "height": 597
        },
        "id": "InmbrqRGdSvm",
        "outputId": "9ad08a54-8059-4fea-eddc-49c23188f9fa"
      },
      "outputs": [
        {
          "output_type": "execute_result",
          "data": {
            "text/plain": [
              "           Code Postal               Commune    Département  \\\n",
              "Code INSEE                                                    \n",
              "31080            31350    BOULOGNE-SUR-GESSE  HAUTE-GARONNE   \n",
              "11143            11510               FEUILLA           AUDE   \n",
              "43028            43200            BESSAMOREL    HAUTE-LOIRE   \n",
              "78506            78660    PRUNAY-EN-YVELINES       YVELINES   \n",
              "84081            84310  MORIERES-LES-AVIGNON       VAUCLUSE   \n",
              "\n",
              "                                Région            Statut  Altitude Moyenne  \\\n",
              "Code INSEE                                                                   \n",
              "31080                    MIDI-PYRENEES  Chef-lieu canton             301.0   \n",
              "11143             LANGUEDOC-ROUSSILLON    Commune simple             314.0   \n",
              "43028                         AUVERGNE    Commune simple             888.0   \n",
              "78506                    ILE-DE-FRANCE    Commune simple             155.0   \n",
              "84081       PROVENCE-ALPES-COTE D'AZUR    Commune simple              49.0   \n",
              "\n",
              "            Superficie  Population                   geo_point_2d  \\\n",
              "Code INSEE                                                          \n",
              "31080           2470.0         1.6  43.2904403081, 0.650641474176   \n",
              "11143           2426.0         0.1   42.9291375888, 2.90138923544   \n",
              "43028            743.0         0.4   45.1306448726, 4.07952494849   \n",
              "78506           2717.0         0.8   48.5267627187, 1.80513972814   \n",
              "84081           1042.0         7.6   43.9337788848, 4.90875878315   \n",
              "\n",
              "                                                    geo_shape        lat  \\\n",
              "Code INSEE                                                                 \n",
              "31080       {\"type\": \"Polygon\", \"coordinates\": [[[0.671852...  43.290440   \n",
              "11143       {\"type\": \"Polygon\", \"coordinates\": [[[2.906996...  42.929138   \n",
              "43028       {\"type\": \"Polygon\", \"coordinates\": [[[4.091674...  45.130645   \n",
              "78506       {\"type\": \"Polygon\", \"coordinates\": [[[1.829610...  48.526763   \n",
              "84081       {\"type\": \"Polygon\", \"coordinates\": [[[4.927176...  43.933779   \n",
              "\n",
              "                 lon                    cp_ville  \n",
              "Code INSEE                                        \n",
              "31080       0.650641    31350 BOULOGNE-SUR-GESSE  \n",
              "11143       2.901389               11510 FEUILLA  \n",
              "43028       4.079525            43200 BESSAMOREL  \n",
              "78506       1.805140    78660 PRUNAY-EN-YVELINES  \n",
              "84081       4.908759  84310 MORIERES-LES-AVIGNON  "
            ],
            "text/html": [
              "\n",
              "  <div id=\"df-b83c098a-0add-4dc8-8522-94ec446600ad\">\n",
              "    <div class=\"colab-df-container\">\n",
              "      <div>\n",
              "<style scoped>\n",
              "    .dataframe tbody tr th:only-of-type {\n",
              "        vertical-align: middle;\n",
              "    }\n",
              "\n",
              "    .dataframe tbody tr th {\n",
              "        vertical-align: top;\n",
              "    }\n",
              "\n",
              "    .dataframe thead th {\n",
              "        text-align: right;\n",
              "    }\n",
              "</style>\n",
              "<table border=\"1\" class=\"dataframe\">\n",
              "  <thead>\n",
              "    <tr style=\"text-align: right;\">\n",
              "      <th></th>\n",
              "      <th>Code Postal</th>\n",
              "      <th>Commune</th>\n",
              "      <th>Département</th>\n",
              "      <th>Région</th>\n",
              "      <th>Statut</th>\n",
              "      <th>Altitude Moyenne</th>\n",
              "      <th>Superficie</th>\n",
              "      <th>Population</th>\n",
              "      <th>geo_point_2d</th>\n",
              "      <th>geo_shape</th>\n",
              "      <th>lat</th>\n",
              "      <th>lon</th>\n",
              "      <th>cp_ville</th>\n",
              "    </tr>\n",
              "    <tr>\n",
              "      <th>Code INSEE</th>\n",
              "      <th></th>\n",
              "      <th></th>\n",
              "      <th></th>\n",
              "      <th></th>\n",
              "      <th></th>\n",
              "      <th></th>\n",
              "      <th></th>\n",
              "      <th></th>\n",
              "      <th></th>\n",
              "      <th></th>\n",
              "      <th></th>\n",
              "      <th></th>\n",
              "      <th></th>\n",
              "    </tr>\n",
              "  </thead>\n",
              "  <tbody>\n",
              "    <tr>\n",
              "      <th>31080</th>\n",
              "      <td>31350</td>\n",
              "      <td>BOULOGNE-SUR-GESSE</td>\n",
              "      <td>HAUTE-GARONNE</td>\n",
              "      <td>MIDI-PYRENEES</td>\n",
              "      <td>Chef-lieu canton</td>\n",
              "      <td>301.0</td>\n",
              "      <td>2470.0</td>\n",
              "      <td>1.6</td>\n",
              "      <td>43.2904403081, 0.650641474176</td>\n",
              "      <td>{\"type\": \"Polygon\", \"coordinates\": [[[0.671852...</td>\n",
              "      <td>43.290440</td>\n",
              "      <td>0.650641</td>\n",
              "      <td>31350 BOULOGNE-SUR-GESSE</td>\n",
              "    </tr>\n",
              "    <tr>\n",
              "      <th>11143</th>\n",
              "      <td>11510</td>\n",
              "      <td>FEUILLA</td>\n",
              "      <td>AUDE</td>\n",
              "      <td>LANGUEDOC-ROUSSILLON</td>\n",
              "      <td>Commune simple</td>\n",
              "      <td>314.0</td>\n",
              "      <td>2426.0</td>\n",
              "      <td>0.1</td>\n",
              "      <td>42.9291375888, 2.90138923544</td>\n",
              "      <td>{\"type\": \"Polygon\", \"coordinates\": [[[2.906996...</td>\n",
              "      <td>42.929138</td>\n",
              "      <td>2.901389</td>\n",
              "      <td>11510 FEUILLA</td>\n",
              "    </tr>\n",
              "    <tr>\n",
              "      <th>43028</th>\n",
              "      <td>43200</td>\n",
              "      <td>BESSAMOREL</td>\n",
              "      <td>HAUTE-LOIRE</td>\n",
              "      <td>AUVERGNE</td>\n",
              "      <td>Commune simple</td>\n",
              "      <td>888.0</td>\n",
              "      <td>743.0</td>\n",
              "      <td>0.4</td>\n",
              "      <td>45.1306448726, 4.07952494849</td>\n",
              "      <td>{\"type\": \"Polygon\", \"coordinates\": [[[4.091674...</td>\n",
              "      <td>45.130645</td>\n",
              "      <td>4.079525</td>\n",
              "      <td>43200 BESSAMOREL</td>\n",
              "    </tr>\n",
              "    <tr>\n",
              "      <th>78506</th>\n",
              "      <td>78660</td>\n",
              "      <td>PRUNAY-EN-YVELINES</td>\n",
              "      <td>YVELINES</td>\n",
              "      <td>ILE-DE-FRANCE</td>\n",
              "      <td>Commune simple</td>\n",
              "      <td>155.0</td>\n",
              "      <td>2717.0</td>\n",
              "      <td>0.8</td>\n",
              "      <td>48.5267627187, 1.80513972814</td>\n",
              "      <td>{\"type\": \"Polygon\", \"coordinates\": [[[1.829610...</td>\n",
              "      <td>48.526763</td>\n",
              "      <td>1.805140</td>\n",
              "      <td>78660 PRUNAY-EN-YVELINES</td>\n",
              "    </tr>\n",
              "    <tr>\n",
              "      <th>84081</th>\n",
              "      <td>84310</td>\n",
              "      <td>MORIERES-LES-AVIGNON</td>\n",
              "      <td>VAUCLUSE</td>\n",
              "      <td>PROVENCE-ALPES-COTE D'AZUR</td>\n",
              "      <td>Commune simple</td>\n",
              "      <td>49.0</td>\n",
              "      <td>1042.0</td>\n",
              "      <td>7.6</td>\n",
              "      <td>43.9337788848, 4.90875878315</td>\n",
              "      <td>{\"type\": \"Polygon\", \"coordinates\": [[[4.927176...</td>\n",
              "      <td>43.933779</td>\n",
              "      <td>4.908759</td>\n",
              "      <td>84310 MORIERES-LES-AVIGNON</td>\n",
              "    </tr>\n",
              "  </tbody>\n",
              "</table>\n",
              "</div>\n",
              "      <button class=\"colab-df-convert\" onclick=\"convertToInteractive('df-b83c098a-0add-4dc8-8522-94ec446600ad')\"\n",
              "              title=\"Convert this dataframe to an interactive table.\"\n",
              "              style=\"display:none;\">\n",
              "        \n",
              "  <svg xmlns=\"http://www.w3.org/2000/svg\" height=\"24px\"viewBox=\"0 0 24 24\"\n",
              "       width=\"24px\">\n",
              "    <path d=\"M0 0h24v24H0V0z\" fill=\"none\"/>\n",
              "    <path d=\"M18.56 5.44l.94 2.06.94-2.06 2.06-.94-2.06-.94-.94-2.06-.94 2.06-2.06.94zm-11 1L8.5 8.5l.94-2.06 2.06-.94-2.06-.94L8.5 2.5l-.94 2.06-2.06.94zm10 10l.94 2.06.94-2.06 2.06-.94-2.06-.94-.94-2.06-.94 2.06-2.06.94z\"/><path d=\"M17.41 7.96l-1.37-1.37c-.4-.4-.92-.59-1.43-.59-.52 0-1.04.2-1.43.59L10.3 9.45l-7.72 7.72c-.78.78-.78 2.05 0 2.83L4 21.41c.39.39.9.59 1.41.59.51 0 1.02-.2 1.41-.59l7.78-7.78 2.81-2.81c.8-.78.8-2.07 0-2.86zM5.41 20L4 18.59l7.72-7.72 1.47 1.35L5.41 20z\"/>\n",
              "  </svg>\n",
              "      </button>\n",
              "      \n",
              "  <style>\n",
              "    .colab-df-container {\n",
              "      display:flex;\n",
              "      flex-wrap:wrap;\n",
              "      gap: 12px;\n",
              "    }\n",
              "\n",
              "    .colab-df-convert {\n",
              "      background-color: #E8F0FE;\n",
              "      border: none;\n",
              "      border-radius: 50%;\n",
              "      cursor: pointer;\n",
              "      display: none;\n",
              "      fill: #1967D2;\n",
              "      height: 32px;\n",
              "      padding: 0 0 0 0;\n",
              "      width: 32px;\n",
              "    }\n",
              "\n",
              "    .colab-df-convert:hover {\n",
              "      background-color: #E2EBFA;\n",
              "      box-shadow: 0px 1px 2px rgba(60, 64, 67, 0.3), 0px 1px 3px 1px rgba(60, 64, 67, 0.15);\n",
              "      fill: #174EA6;\n",
              "    }\n",
              "\n",
              "    [theme=dark] .colab-df-convert {\n",
              "      background-color: #3B4455;\n",
              "      fill: #D2E3FC;\n",
              "    }\n",
              "\n",
              "    [theme=dark] .colab-df-convert:hover {\n",
              "      background-color: #434B5C;\n",
              "      box-shadow: 0px 1px 3px 1px rgba(0, 0, 0, 0.15);\n",
              "      filter: drop-shadow(0px 1px 2px rgba(0, 0, 0, 0.3));\n",
              "      fill: #FFFFFF;\n",
              "    }\n",
              "  </style>\n",
              "\n",
              "      <script>\n",
              "        const buttonEl =\n",
              "          document.querySelector('#df-b83c098a-0add-4dc8-8522-94ec446600ad button.colab-df-convert');\n",
              "        buttonEl.style.display =\n",
              "          google.colab.kernel.accessAllowed ? 'block' : 'none';\n",
              "\n",
              "        async function convertToInteractive(key) {\n",
              "          const element = document.querySelector('#df-b83c098a-0add-4dc8-8522-94ec446600ad');\n",
              "          const dataTable =\n",
              "            await google.colab.kernel.invokeFunction('convertToInteractive',\n",
              "                                                     [key], {});\n",
              "          if (!dataTable) return;\n",
              "\n",
              "          const docLinkHtml = 'Like what you see? Visit the ' +\n",
              "            '<a target=\"_blank\" href=https://colab.research.google.com/notebooks/data_table.ipynb>data table notebook</a>'\n",
              "            + ' to learn more about interactive tables.';\n",
              "          element.innerHTML = '';\n",
              "          dataTable['output_type'] = 'display_data';\n",
              "          await google.colab.output.renderOutput(dataTable, element);\n",
              "          const docLink = document.createElement('div');\n",
              "          docLink.innerHTML = docLinkHtml;\n",
              "          element.appendChild(docLink);\n",
              "        }\n",
              "      </script>\n",
              "    </div>\n",
              "  </div>\n",
              "  "
            ]
          },
          "metadata": {},
          "execution_count": 3
        }
      ],
      "source": [
        "# chargement et traitement des données\n",
        "geo = pd.read_csv(\"correspondance-code-insee-code-postal.csv\",\n",
        "                   sep=';',\n",
        "                   usecols=range(11),\n",
        "                   index_col=\"Code INSEE\")\n",
        "\n",
        "# A COMPLETER avec les colonnes\n",
        "# - lat, lon : latitude et longitude des communes\n",
        "\n",
        "#geo[\"Latitude\"] = geo[\"geo_point_2d\"].apply(lambda x: float(x.split(', ')[0])).astype(float)\n",
        "#geo[\"Longitude\"] = geo[\"geo_point_2d\"].apply(lambda x: float(x.split(', ')[1])).astype(float)\n",
        "geo[[\"lat\",\"lon\"]] = geo[\"geo_point_2d\"].str.split(\", \", expand=True).astype(float)\n",
        "\n",
        "# - cp_ville : Code Postal + \" \" + \"Commune\"\n",
        "\n",
        "geo[\"cp_ville\"] = geo[\"Code Postal\"]+ \" \" + geo[\"Commune\"]\n",
        "#geo2=geo[[\"Latitude\",\"Longitude\",\"cp_ville\"]]\n",
        "geo.head()\n",
        "#geo.info()"
      ]
    },
    {
      "cell_type": "markdown",
      "metadata": {
        "id": "XYrUwdHTdSvm"
      },
      "source": [
        "**Partie A**\n",
        "\n",
        "- Compléter le chargement des données en ajoutant au dataframe `GEO`\n",
        "    - les colonnes \"lat\" et \"lon\" avec la latitude et la longitude des communes\n",
        "    - une colonne \"cp_ville\" avec le Code Postal + un espace + et le nom de la Commune\n",
        "- Ecrire une fonction `search_city(lat, lon)` qui retourne le \"cp_ville\" de la commune la plus proche d'un point à partir de sa latitude et sa longitude.\n",
        "- Ecrire une fonction `dms2dec(deg, min, sec)` qui convertit les degrés, minutes, secondes en valeur numérique pour pouvoir utiliser la fonction précédente avec un GPS."
      ]
    },
    {
      "cell_type": "code",
      "execution_count": 5,
      "metadata": {
        "scrolled": false,
        "id": "8_lFPqvUdSvn"
      },
      "outputs": [],
      "source": [
        "# fonction recherche de ville\n",
        "\n",
        "def search_city(lat, long):\n",
        "    loc1=(lat, long)\n",
        "    #X=geo[[\"Latitude\"][\"Longitude\"]]\n",
        "    geo[\"Values\"] = geo.apply(lambda x:np.sqrt(np.square(x.lat-lat)+np.square(x.lon-long)), axis = 1)\n",
        "    result=geo[\"Values\"].idxmin()\n",
        "    return geo[\"cp_ville\"][result]\n",
        "\n",
        "#loc1=(28.426846,77.088834)\n",
        "#loc2=(28.394231,77.050308)"
      ]
    },
    {
      "cell_type": "code",
      "execution_count": 6,
      "metadata": {
        "scrolled": false,
        "id": "VI_8ZmqGdSvn"
      },
      "outputs": [],
      "source": [
        "# conversion degrés, minutes, secondes => décimal\n",
        "def dms2dec(deg, mn, sec):\n",
        "  return deg+ mn/60 + sec/3600\n"
      ]
    },
    {
      "cell_type": "code",
      "execution_count": 7,
      "metadata": {
        "scrolled": false,
        "colab": {
          "base_uri": "https://localhost:8080/",
          "height": 35
        },
        "id": "vXTelfg6dSvn",
        "outputId": "8e31738f-b25d-4e31-dd7e-7b0dbc575c52"
      },
      "outputs": [
        {
          "output_type": "execute_result",
          "data": {
            "text/plain": [
              "'71330 BOSJEAN'"
            ],
            "application/vnd.google.colaboratory.intrinsic+json": {
              "type": "string"
            }
          },
          "metadata": {},
          "execution_count": 7
        }
      ],
      "source": [
        "# on applique la fonction à une coordonnée tirée au hasard\n",
        "np.random.seed(0)\n",
        "a, b = 41.5, 51.1  # latitude min et max de la France métropolitaine\n",
        "lat = np.random.uniform(a, b)\n",
        "a, b = -5.1, 9.5  # longitude min et max de la France métropolitaine\n",
        "lon = np.random.uniform(a, b)\n",
        "\n",
        "search_city(lat, lon)"
      ]
    },
    {
      "cell_type": "code",
      "execution_count": 8,
      "metadata": {
        "scrolled": false,
        "colab": {
          "base_uri": "https://localhost:8080/",
          "height": 35
        },
        "id": "LTQUsr88dSvn",
        "outputId": "f60af07c-2639-432d-c697-c3ec9dcbf5b7"
      },
      "outputs": [
        {
          "output_type": "execute_result",
          "data": {
            "text/plain": [
              "'91120 PALAISEAU'"
            ],
            "application/vnd.google.colaboratory.intrinsic+json": {
              "type": "string"
            }
          },
          "metadata": {},
          "execution_count": 8
        }
      ],
      "source": [
        "# à partir de coordonnées GPS précises\n",
        "search_city(dms2dec(48, 42, 52), dms2dec(2, 14, 45))"
      ]
    },
    {
      "cell_type": "markdown",
      "metadata": {
        "id": "isYBVboadSvo"
      },
      "source": [
        "**Partie B**\n",
        "\n",
        "La colonne \"geo_shape\" comporte des chaines de catactères au format JSON. Elles représentent les formes géométriques des communes qui sont soit des polygones soit composées de plusieurs polygones.\n",
        "\n",
        "- Utiliser la librairie Python **json** pour parser les valeurs de la colonne \"geo_shape\" et mettre le résultat (`Series`) dans la variable `GEO_SHAPE`.\n",
        "- Ecrire une fonction `get_types()` qui retourne le décompte (`value_counts()`) des valeurs accédées avec la clé \"type\".\n",
        "- Ecrire une fonction `get_coordinates_len()` qui retourne le décompte (`value_counts()`) des longueurs des listes accédées avec la clé \"coordinates\".\n",
        "- Ecrire une fonction `get_most_complex_city()` qui retourne la commune est constituée du plus grand nombre de polygones ?\n",
        "- Ecrire une fonction `get_nb_cities_2_polygons()` qui retourne  le nombre de villes qui sont de type \"Polygon\" mais dont la longueur des listes accédées avec la clé \"coordinates\" vaut 2 ?\n",
        "- **Facultatif :**\n",
        "- Pour ces villes vérifier que le premier polygone contient bien le second (enclave). NB : on pourra installer la librairie **shapely**, utiliser la classe Polygon de **shapely.geometry**  et la méthode `contains()`. Sur Windows **shapely** peut nécessiter d'installer manuellement la dll \"geos_c.dll\" dans le répertoire \"Library/bin\" de votre environnement Python."
      ]
    },
    {
      "cell_type": "code",
      "execution_count": 107,
      "metadata": {
        "colab": {
          "base_uri": "https://localhost:8080/",
          "height": 643
        },
        "id": "0TtUfSF7dSvp",
        "outputId": "8734da49-7d44-42de-a01a-1bf720883754"
      },
      "outputs": [
        {
          "output_type": "execute_result",
          "data": {
            "text/plain": [
              "               type                                        coordinates\n",
              "Code INSEE                                                            \n",
              "31080       Polygon  [[[0.671852008023359, 43.268343740258835], [0....\n",
              "11143       Polygon  [[[2.906996888482618, 42.895679017325214], [2....\n",
              "43028       Polygon  [[[4.091674013520042, 45.10387299771701], [4.0...\n",
              "78506       Polygon  [[[1.82961019583912, 48.496571987531524], [1.8...\n",
              "84081       Polygon  [[[4.927176726246697, 43.90528366187598], [4.8...\n",
              "80462       Polygon  [[[1.849459801983121, 50.17500092547019], [1.8...\n",
              "40200       Polygon  [[[-0.710168187746476, 44.34474055229595], [-0...\n",
              "17394       Polygon  [[[-0.66124517570293, 46.112107175022146], [-0...\n",
              "...             ...                                                ...\n",
              "15024       Polygon  [[[2.302124109031132, 45.19200821045956], [2.2...\n",
              "76008       Polygon  [[[1.205457180575811, 49.8846111948466], [1.16...\n",
              "02137       Polygon  [[[3.258096611944434, 49.05600500728458], [3.2...\n",
              "74066       Polygon  [[[6.026228645474093, 46.0398190939394], [6.01...\n",
              "67315       Polygon  [[[8.106826841916497, 48.94076044446545], [8.0...\n",
              "07122       Polygon  [[[4.356584796725173, 44.54080039174845], [4.3...\n",
              "01026       Polygon  [[[4.926593676348706, 46.304132622674715], [4....\n",
              "50224       Polygon  [[[-0.997539314886753, 48.950278285217586], [-...\n",
              "\n",
              "[36742 rows x 2 columns]"
            ],
            "text/html": [
              "\n",
              "  <div id=\"df-c2aae8a1-0308-4ce5-90a4-d49293220d7a\">\n",
              "    <div class=\"colab-df-container\">\n",
              "      <div>\n",
              "<style scoped>\n",
              "    .dataframe tbody tr th:only-of-type {\n",
              "        vertical-align: middle;\n",
              "    }\n",
              "\n",
              "    .dataframe tbody tr th {\n",
              "        vertical-align: top;\n",
              "    }\n",
              "\n",
              "    .dataframe thead th {\n",
              "        text-align: right;\n",
              "    }\n",
              "</style>\n",
              "<table border=\"1\" class=\"dataframe\">\n",
              "  <thead>\n",
              "    <tr style=\"text-align: right;\">\n",
              "      <th></th>\n",
              "      <th>type</th>\n",
              "      <th>coordinates</th>\n",
              "    </tr>\n",
              "    <tr>\n",
              "      <th>Code INSEE</th>\n",
              "      <th></th>\n",
              "      <th></th>\n",
              "    </tr>\n",
              "  </thead>\n",
              "  <tbody>\n",
              "    <tr>\n",
              "      <th>31080</th>\n",
              "      <td>Polygon</td>\n",
              "      <td>[[[0.671852008023359, 43.268343740258835], [0....</td>\n",
              "    </tr>\n",
              "    <tr>\n",
              "      <th>11143</th>\n",
              "      <td>Polygon</td>\n",
              "      <td>[[[2.906996888482618, 42.895679017325214], [2....</td>\n",
              "    </tr>\n",
              "    <tr>\n",
              "      <th>43028</th>\n",
              "      <td>Polygon</td>\n",
              "      <td>[[[4.091674013520042, 45.10387299771701], [4.0...</td>\n",
              "    </tr>\n",
              "    <tr>\n",
              "      <th>78506</th>\n",
              "      <td>Polygon</td>\n",
              "      <td>[[[1.82961019583912, 48.496571987531524], [1.8...</td>\n",
              "    </tr>\n",
              "    <tr>\n",
              "      <th>84081</th>\n",
              "      <td>Polygon</td>\n",
              "      <td>[[[4.927176726246697, 43.90528366187598], [4.8...</td>\n",
              "    </tr>\n",
              "    <tr>\n",
              "      <th>80462</th>\n",
              "      <td>Polygon</td>\n",
              "      <td>[[[1.849459801983121, 50.17500092547019], [1.8...</td>\n",
              "    </tr>\n",
              "    <tr>\n",
              "      <th>40200</th>\n",
              "      <td>Polygon</td>\n",
              "      <td>[[[-0.710168187746476, 44.34474055229595], [-0...</td>\n",
              "    </tr>\n",
              "    <tr>\n",
              "      <th>17394</th>\n",
              "      <td>Polygon</td>\n",
              "      <td>[[[-0.66124517570293, 46.112107175022146], [-0...</td>\n",
              "    </tr>\n",
              "    <tr>\n",
              "      <th>...</th>\n",
              "      <td>...</td>\n",
              "      <td>...</td>\n",
              "    </tr>\n",
              "    <tr>\n",
              "      <th>15024</th>\n",
              "      <td>Polygon</td>\n",
              "      <td>[[[2.302124109031132, 45.19200821045956], [2.2...</td>\n",
              "    </tr>\n",
              "    <tr>\n",
              "      <th>76008</th>\n",
              "      <td>Polygon</td>\n",
              "      <td>[[[1.205457180575811, 49.8846111948466], [1.16...</td>\n",
              "    </tr>\n",
              "    <tr>\n",
              "      <th>02137</th>\n",
              "      <td>Polygon</td>\n",
              "      <td>[[[3.258096611944434, 49.05600500728458], [3.2...</td>\n",
              "    </tr>\n",
              "    <tr>\n",
              "      <th>74066</th>\n",
              "      <td>Polygon</td>\n",
              "      <td>[[[6.026228645474093, 46.0398190939394], [6.01...</td>\n",
              "    </tr>\n",
              "    <tr>\n",
              "      <th>67315</th>\n",
              "      <td>Polygon</td>\n",
              "      <td>[[[8.106826841916497, 48.94076044446545], [8.0...</td>\n",
              "    </tr>\n",
              "    <tr>\n",
              "      <th>07122</th>\n",
              "      <td>Polygon</td>\n",
              "      <td>[[[4.356584796725173, 44.54080039174845], [4.3...</td>\n",
              "    </tr>\n",
              "    <tr>\n",
              "      <th>01026</th>\n",
              "      <td>Polygon</td>\n",
              "      <td>[[[4.926593676348706, 46.304132622674715], [4....</td>\n",
              "    </tr>\n",
              "    <tr>\n",
              "      <th>50224</th>\n",
              "      <td>Polygon</td>\n",
              "      <td>[[[-0.997539314886753, 48.950278285217586], [-...</td>\n",
              "    </tr>\n",
              "  </tbody>\n",
              "</table>\n",
              "<p>36742 rows × 2 columns</p>\n",
              "</div>\n",
              "      <button class=\"colab-df-convert\" onclick=\"convertToInteractive('df-c2aae8a1-0308-4ce5-90a4-d49293220d7a')\"\n",
              "              title=\"Convert this dataframe to an interactive table.\"\n",
              "              style=\"display:none;\">\n",
              "        \n",
              "  <svg xmlns=\"http://www.w3.org/2000/svg\" height=\"24px\"viewBox=\"0 0 24 24\"\n",
              "       width=\"24px\">\n",
              "    <path d=\"M0 0h24v24H0V0z\" fill=\"none\"/>\n",
              "    <path d=\"M18.56 5.44l.94 2.06.94-2.06 2.06-.94-2.06-.94-.94-2.06-.94 2.06-2.06.94zm-11 1L8.5 8.5l.94-2.06 2.06-.94-2.06-.94L8.5 2.5l-.94 2.06-2.06.94zm10 10l.94 2.06.94-2.06 2.06-.94-2.06-.94-.94-2.06-.94 2.06-2.06.94z\"/><path d=\"M17.41 7.96l-1.37-1.37c-.4-.4-.92-.59-1.43-.59-.52 0-1.04.2-1.43.59L10.3 9.45l-7.72 7.72c-.78.78-.78 2.05 0 2.83L4 21.41c.39.39.9.59 1.41.59.51 0 1.02-.2 1.41-.59l7.78-7.78 2.81-2.81c.8-.78.8-2.07 0-2.86zM5.41 20L4 18.59l7.72-7.72 1.47 1.35L5.41 20z\"/>\n",
              "  </svg>\n",
              "      </button>\n",
              "      \n",
              "  <style>\n",
              "    .colab-df-container {\n",
              "      display:flex;\n",
              "      flex-wrap:wrap;\n",
              "      gap: 12px;\n",
              "    }\n",
              "\n",
              "    .colab-df-convert {\n",
              "      background-color: #E8F0FE;\n",
              "      border: none;\n",
              "      border-radius: 50%;\n",
              "      cursor: pointer;\n",
              "      display: none;\n",
              "      fill: #1967D2;\n",
              "      height: 32px;\n",
              "      padding: 0 0 0 0;\n",
              "      width: 32px;\n",
              "    }\n",
              "\n",
              "    .colab-df-convert:hover {\n",
              "      background-color: #E2EBFA;\n",
              "      box-shadow: 0px 1px 2px rgba(60, 64, 67, 0.3), 0px 1px 3px 1px rgba(60, 64, 67, 0.15);\n",
              "      fill: #174EA6;\n",
              "    }\n",
              "\n",
              "    [theme=dark] .colab-df-convert {\n",
              "      background-color: #3B4455;\n",
              "      fill: #D2E3FC;\n",
              "    }\n",
              "\n",
              "    [theme=dark] .colab-df-convert:hover {\n",
              "      background-color: #434B5C;\n",
              "      box-shadow: 0px 1px 3px 1px rgba(0, 0, 0, 0.15);\n",
              "      filter: drop-shadow(0px 1px 2px rgba(0, 0, 0, 0.3));\n",
              "      fill: #FFFFFF;\n",
              "    }\n",
              "  </style>\n",
              "\n",
              "      <script>\n",
              "        const buttonEl =\n",
              "          document.querySelector('#df-c2aae8a1-0308-4ce5-90a4-d49293220d7a button.colab-df-convert');\n",
              "        buttonEl.style.display =\n",
              "          google.colab.kernel.accessAllowed ? 'block' : 'none';\n",
              "\n",
              "        async function convertToInteractive(key) {\n",
              "          const element = document.querySelector('#df-c2aae8a1-0308-4ce5-90a4-d49293220d7a');\n",
              "          const dataTable =\n",
              "            await google.colab.kernel.invokeFunction('convertToInteractive',\n",
              "                                                     [key], {});\n",
              "          if (!dataTable) return;\n",
              "\n",
              "          const docLinkHtml = 'Like what you see? Visit the ' +\n",
              "            '<a target=\"_blank\" href=https://colab.research.google.com/notebooks/data_table.ipynb>data table notebook</a>'\n",
              "            + ' to learn more about interactive tables.';\n",
              "          element.innerHTML = '';\n",
              "          dataTable['output_type'] = 'display_data';\n",
              "          await google.colab.output.renderOutput(dataTable, element);\n",
              "          const docLink = document.createElement('div');\n",
              "          docLink.innerHTML = docLinkHtml;\n",
              "          element.appendChild(docLink);\n",
              "        }\n",
              "      </script>\n",
              "    </div>\n",
              "  </div>\n",
              "  "
            ]
          },
          "metadata": {},
          "execution_count": 107
        }
      ],
      "source": [
        "# On utilise la librairie Python json pour parser les valeurs \n",
        "# de la colonne \"geo_shape\" et mettre le résultat (Series) dans la variable GEO_SHAPE\n",
        "\n",
        "import json\n",
        "# La variable GEO_SHAPE doit contenir une Serie\n",
        "# correspondant aux valeurs de la colonne \"geo_shape\" parsées avec la librairie json\n",
        "GEO_SHAPE = pd.Series(dtype=object)\n",
        "GEO_SHAPE=geo[\"geo_shape\"].apply(json.loads).apply(pd.Series)\n",
        "\n",
        "GEO_SHAPE"
      ]
    },
    {
      "cell_type": "code",
      "execution_count": 199,
      "metadata": {
        "colab": {
          "base_uri": "https://localhost:8080/"
        },
        "id": "dBCx8NSCdSvp",
        "outputId": "9e8d8b64-c0a3-4e13-decb-cc4876544d45"
      },
      "outputs": [
        {
          "output_type": "execute_result",
          "data": {
            "text/plain": [
              "Polygon         36670\n",
              "MultiPolygon       72\n",
              "Name: type, dtype: int64"
            ]
          },
          "metadata": {},
          "execution_count": 199
        }
      ],
      "source": [
        "# Ecrivons une fonction get_types() \n",
        "# qui retourne le décompte (value_counts()) des valeurs accédées avec la clé \"type\".\n",
        "\n",
        "\n",
        "def get_types():\n",
        "  return GEO_SHAPE[\"type\"].value_counts()\n",
        "get_types()"
      ]
    },
    {
      "cell_type": "code",
      "execution_count": 200,
      "metadata": {
        "colab": {
          "base_uri": "https://localhost:8080/"
        },
        "id": "DmDOrp6GdSvp",
        "outputId": "315ad132-fc22-4829-bf02-56be118438f9"
      },
      "outputs": [
        {
          "output_type": "execute_result",
          "data": {
            "text/plain": [
              "1    36660\n",
              "2       80\n",
              "3        1\n",
              "4        1\n",
              "Name: data, dtype: int64"
            ]
          },
          "metadata": {},
          "execution_count": 200
        }
      ],
      "source": [
        "# Ecrivons une fonction get_coordinates_len() qui retourne le décompte (value_counts())\n",
        "#des longueurs des listes accédées avec la clé \"coordinates\".\n",
        "\n",
        "def get_coordinates_len():\n",
        "     geo[\"data\"]=GEO_SHAPE['coordinates'].apply(lambda x:np.array(x,dtype=object)).apply(lambda y: np.shape(y)[0])\n",
        "     return geo[\"data\"].value_counts()\n",
        "GEO_SHAPE[\"res\"]=geo[\"data\"]\n",
        "\n",
        "get_coordinates_len()"
      ]
    },
    {
      "cell_type": "code",
      "execution_count": 186,
      "metadata": {
        "colab": {
          "base_uri": "https://localhost:8080/",
          "height": 35
        },
        "id": "RYKaC_yCdSvq",
        "outputId": "2ccc36f0-978f-4728-9ae1-076fcf37ab10"
      },
      "outputs": [
        {
          "output_type": "execute_result",
          "data": {
            "text/plain": [
              "'83400 HYERES'"
            ],
            "application/vnd.google.colaboratory.intrinsic+json": {
              "type": "string"
            }
          },
          "metadata": {},
          "execution_count": 186
        }
      ],
      "source": [
        "# Ecrivons une fonction get_most_complex_city() \n",
        "#qui retourne la commune est constituée du plus grand nombre de polygones ?\n",
        "def get_most_complex_city():\n",
        "  value=geo[\"data\"].idxmax()\n",
        "  return geo[\"cp_ville\"][value]\n",
        "\n",
        "get_most_complex_city()"
      ]
    },
    {
      "cell_type": "code",
      "execution_count": 197,
      "metadata": {
        "colab": {
          "base_uri": "https://localhost:8080/"
        },
        "id": "ypoEJI_SdSvq",
        "outputId": "2524e60f-3c0f-4a4c-bf94-8f67b036fc59"
      },
      "outputs": [
        {
          "output_type": "execute_result",
          "data": {
            "text/plain": [
              "10"
            ]
          },
          "metadata": {},
          "execution_count": 197
        }
      ],
      "source": [
        "# Ecrivons une fonction get_nb_cities_2_polygons() qui retourne le nombre de villes qui \n",
        "#sont de type \"Polygon\" mais dont la longueur des listes accédées avec la clé \"coordinates\" vaut 2 ?\n",
        "\n",
        "def get_nb_cities_2_polygons():\n",
        "    res=geo[\"cp_ville\"].loc[(GEO_SHAPE[\"type\"] == \"Polygon\") & (GEO_SHAPE[\"res\"] ==2)]\n",
        "    return len(res)\n",
        "\n",
        "get_nb_cities_2_polygons()"
      ]
    },
    {
      "cell_type": "code",
      "execution_count": 119,
      "metadata": {
        "id": "MyWE5tMzdSvq"
      },
      "outputs": [],
      "source": [
        "# tests\n",
        "import unittest\n",
        "\n",
        "class Session2Test(unittest.TestCase):\n",
        "    \n",
        "    def test_partie_A1(self):\n",
        "        # on applique la fonction cherche_ville() à une coordonnée tirée au hasard\n",
        "        np.random.seed(0)\n",
        "        a, b = 41.5, 51.1  # latitude min et max de la France métropolitaine\n",
        "        lat = np.random.uniform(a, b)\n",
        "        a, b = -5.1, 9.5  # longitude min et max de la France métropolitaine\n",
        "        lon = np.random.uniform(a, b)\n",
        "\n",
        "        cp_ville = search_city(lat, lon)\n",
        "        self.assertEqual(cp_ville, \"71330 BOSJEAN\")\n",
        "        \n",
        "    def test_partie_A2(self):\n",
        "        # à partir de coordonnées GPS précises\n",
        "        cp_ville = search_city(dms2dec(48, 42, 52), dms2dec(2, 14, 45))\n",
        "        self.assertEqual(cp_ville, \"91120 PALAISEAU\")\n",
        "        \n",
        "    def test_partie_B1(self):\n",
        "        # check types\n",
        "        dico = get_types()\n",
        "        self.assertEqual(dico[\"Polygon\"], 36670)\n",
        "        self.assertEqual(dico[\"MultiPolygon\"], 72)\n",
        "        \n",
        "    def test_partie_B2(self):\n",
        "        # check coordinates len\n",
        "        dico = get_coordinates_len()\n",
        "        self.assertEqual(dico[1], 36660)\n",
        "        self.assertEqual(dico[2], 80)\n",
        "       \n",
        "    def test_partie_B3(self):\n",
        "        # check most complex city\n",
        "        cp_ville = get_most_complex_city()\n",
        "        self.assertEqual(cp_ville, \"83400 HYERES\")\n",
        "        \n",
        "    def test_partie_B4(self):\n",
        "        # check nb cities 2 polygons\n",
        "        nb = get_nb_cities_2_polygons()\n",
        "        self.assertEqual(nb, 10)"
      ]
    },
    {
      "cell_type": "code",
      "execution_count": 201,
      "metadata": {
        "colab": {
          "base_uri": "https://localhost:8080/"
        },
        "id": "SRXO9yJIdSvr",
        "outputId": "0f63acdb-7b9a-4871-97e8-42f43f6f3004"
      },
      "outputs": [
        {
          "output_type": "stream",
          "name": "stderr",
          "text": [
            "test_partie_A1 (__main__.Session2Test) ... ok\n",
            "test_partie_A2 (__main__.Session2Test) ... ok\n",
            "test_partie_B1 (__main__.Session2Test) ... ok\n",
            "test_partie_B2 (__main__.Session2Test) ... ok\n",
            "test_partie_B3 (__main__.Session2Test) ... ok\n",
            "test_partie_B4 (__main__.Session2Test) ... ok\n",
            "\n",
            "----------------------------------------------------------------------\n",
            "Ran 6 tests in 2.416s\n",
            "\n",
            "OK\n"
          ]
        }
      ],
      "source": [
        "# run tests\n",
        "def run_tests():\n",
        "    test_suite = unittest.makeSuite(Session2Test)\n",
        "    runner = unittest.TextTestRunner(verbosity=2)\n",
        "    runner.run(test_suite)\n",
        "    \n",
        "run_tests()"
      ]
    }
  ],
  "metadata": {
    "anaconda-cloud": {},
    "kernelspec": {
      "display_name": "Python 3 (ipykernel)",
      "language": "python",
      "name": "python3"
    },
    "language_info": {
      "codemirror_mode": {
        "name": "ipython",
        "version": 3
      },
      "file_extension": ".py",
      "mimetype": "text/x-python",
      "name": "python",
      "nbconvert_exporter": "python",
      "pygments_lexer": "ipython3",
      "version": "3.9.12"
    },
    "colab": {
      "provenance": []
    }
  },
  "nbformat": 4,
  "nbformat_minor": 0
}