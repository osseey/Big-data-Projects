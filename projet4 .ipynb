{
 "cells": [
  {
   "cell_type": "markdown",
   "metadata": {
    "id": "1d7qG_rJwnP1"
   },
   "source": [
    "# Projet maison n° 4"
   ]
  },
  {
   "cell_type": "code",
   "execution_count": 7,
   "metadata": {
    "id": "lVt9IRSAwnP4"
   },
   "outputs": [],
   "source": [
    "# imports\n",
    "import requests\n",
    "from bs4 import BeautifulSoup\n",
    "import re"
   ]
  },
  {
   "cell_type": "markdown",
   "metadata": {
    "id": "pRZAWDkfwnP5"
   },
   "source": [
    "**Partie A**\n",
    "\n",
    "Ecrire une fonction `get_prices_from_url()` qui extrait des informations à partir des 2 pages ci-dessous.\n",
    "\n",
    "```python\n",
    "URL_PAGE2 = \"https://kim.fspot.org/cours/page2.html\"\n",
    "URL_PAGE3 = \"https://kim.fspot.org/cours/page3.html\"\n",
    "```\n",
    "\n",
    "Avec `URL_PAGE2`, la fonction doit retourner :\n",
    "\n",
    "```json\n",
    "{'Personal': {'price': '$5', 'storage': '1GB', 'databases': 1},\n",
    " 'Small Business': {'price': '$25', 'storage': '10GB', 'databases': 5},\n",
    " 'Enterprise': {'price': '$45', 'storage': '100GB', 'databases': 25}}\n",
    "```"
   ]
  },
  {
   "cell_type": "code",
   "execution_count": 145,
   "metadata": {
    "id": "B-9blfONwnP6"
   },
   "outputs": [],
   "source": [
    "\n",
    "# partie A\n",
    "URL_PAGE2 = \"https://kim.fspot.org/cours/page2.html\"\n",
    "URL_PAGE3 = \"https://kim.fspot.org/cours/page3.html\"\n",
    "\n",
    "\n",
    "def get_prices_from_url(url):\n",
    "    r=requests.get(url)\n",
    "    prices = {}\n",
    "    rows = []\n",
    "    # Conversion du contenu \n",
    "    content = r.content.decode('utf-8')\n",
    "    #print(content)\n",
    "    soup = BeautifulSoup(content)\n",
    "    # Recherche des éléments de la balise h2\n",
    "    for tag in soup.findAll('div', attrs={'class': 'pricing-tables pure-g'}):\n",
    "        titres = []\n",
    "        for element in tag.findAll('h2'):\n",
    "            titres.append(element.text) # Ajout de chaque élément dans la liste titres\n",
    "    #print(titres)\n",
    "    price=[]\n",
    "    # extraction avec regex des prix\n",
    "    rx1 = re.compile('<span class=\"pricing-table-price\">([^<]+)<span>')\n",
    "    for match in rx1.finditer(content):\n",
    "        price.append((match.group(1))[2:])\n",
    "\n",
    "    storage=[]\n",
    "    # extraction avec regex du stockage\n",
    "    rx2 = re.compile('<li>([0-9]+[GBT]+)[^a-z][^<]+</li>')\n",
    "    for match2 in rx2.finditer(content):\n",
    "        storage.append((match2.group(1)))\n",
    "\n",
    "    databases=[]\n",
    "    # extraction avec regex du nombre de base de données\n",
    "    rx3 = re.compile('<li>([0-9]+) database?[^<]+</li>')\n",
    "    for match3 in rx3.finditer(content):\n",
    "        databases.append((match3.group(1)))\n",
    "\n",
    "    for i in range(len(titres)):\n",
    "        # Structuration des données dans le dictionnaire prices\n",
    "        data=dict(zip(['price','storage','databases'],[price[i].strip(),storage[i],int(databases[i])]))\n",
    "        prices[titres[i]]= data\n",
    "    \n",
    "    return prices\n",
    "\n",
    "\n",
    "#get_prices_from_url(URL_PAGE2)\n",
    "#get_prices_from_url(URL_PAGE3)"
   ]
  },
  {
   "cell_type": "markdown",
   "metadata": {
    "id": "KeLKvbEQwnP6"
   },
   "source": [
    "**Partie B**\n",
    "\n",
    "*L'abus d'alcool est dangereux pour la santé, à consommer avec modération.*\n",
    "\n",
    "1) Ecrire une fonction `extract_beer_infos()` qui extrait des informations sur une bière du site de bières *beowulf*.\n",
    "\n",
    "Exemple d'URL: https://www.beerwulf.com/fr-fr/p/bieres/cuvee-des-trolls.33 \n",
    "\n",
    "La fonction doit retourner :\n",
    "```json\n",
    "{'Nom': 'Cuvée des Trolls',\n",
    " 'Style': 'Bière Blonde',\n",
    " 'Contenu': 25,\n",
    " 'Degré d’alcool': 7.0,\n",
    " 'Origine': 'Belgique',\n",
    " 'Brasseur': 'Brasserie Dubuisson Freres'}\n",
    "```\n",
    "\n",
    "2) L'URL ci-après retourne un JSON avec une liste de bières :\n",
    "\n",
    "```python\n",
    "URL_BEERLIST_FRANCE = \"https://www.beerwulf.com/fr-FR/api/search/searchProducts?country=France&container=Bouteille\"\n",
    "```\n",
    "\n",
    "Ecrire une fonction `extract_beer_list_infos(url)` qui prend en argument cet URL et retourne les informations sur une liste de bières du site *beowulf*.\n",
    "\n",
    "Cette fonction doit retourner la liste des informations obtenues par la fonction précédemment définie `extract_beer_infos()`.\n",
    "\n",
    "Exemple de retour :\n",
    "\n",
    "```json\n",
    "[{'Nom':'Desperados','Style':'Lager','Contenu':33,'Degré d’alcool':5.9,'Origine':'France','Brasseur':'Desperados'},\n",
    "{'Nom':'La Lager Sans Gluten de Vézelay','Style':'Lager','Contenu':25,'Degré d’alcool':4.0,'Origine':'France','Brasseur':'Brasserie de Vézelay'},\n",
    "{'Nom':'Mélusine Bio','Style':'Pale Ale','Contenu': 33,'Degré d’alcool': 5.0,'Origine':'France','Brasseur':'Mélusine'},\n",
    "{'Nom':'La Parisienne Le Titi Parisien','Style':'IPA','Contenu':33,'Degré d’alcool':5.5,'Origine':'France','Brasseur': 'Brasserie la Parisienne'},\n",
    "{'Nom':'Brasserie De Sutter Brin de Folie','Style':'Bière Blonde','Contenu': 33,'Degré d’alcool':6.5,'Origine':'France','Brasseur':'Brasserie de Sutter'}]\n",
    "```\n",
    "\n",
    "**Facultatif**\n",
    "\n",
    "Chercher comment optimiser cette fonction en utilisant `multiprocessing.Pool()` pour paralléliser les accès web."
   ]
  },
  {
   "cell_type": "code",
   "execution_count": 370,
   "metadata": {
    "id": "5avNWVrWwnP8"
   },
   "outputs": [
    {
     "data": {
      "text/plain": [
       "{'Nom': 'Ciney Blonde',\n",
       " 'Style': 'Bière Blonde',\n",
       " 'Contenu': 25,\n",
       " 'Degré d’alcool': 7.0,\n",
       " 'Origine': 'Belgique',\n",
       " 'Brasseur': 'Ciney'}"
      ]
     },
     "execution_count": 370,
     "metadata": {},
     "output_type": "execute_result"
    }
   ],
   "source": [
    "# partie B-1\n",
    "import re\n",
    "import pandas as pd\n",
    "import numpy as np\n",
    "url='https://www.beerwulf.com/fr-fr/p/bieres/ciney-blond.25?scrollTo=relatedProducts'#'https://www.beerwulf.com/fr-fr/p/bieres/cuvee-des-trolls.33'#'https://www.beerwulf.com/fr-FR/api/search/searchProducts?country=France&container=Bouteille'\n",
    "\n",
    "        \n",
    "\n",
    "    \n",
    "def extract_beer_infos(url):\n",
    "    \n",
    "    r=requests.get(url)\n",
    "\n",
    "    content = r.content.decode('utf-8')\n",
    "\n",
    "    soup = BeautifulSoup(content, \"lxml\")\n",
    "    #print(content)\n",
    "    #soup\n",
    "\n",
    "    nom=[]\n",
    "    degre = []\n",
    "    style=[]\n",
    "    contenu=[]\n",
    "    origine=[]\n",
    "    brasseur=[]\n",
    "\n",
    "    for tag in soup.findAll('div',attrs={'class':\"product-detail-info-title\"}):\n",
    "        n=tag.find('h1')\n",
    "        nom.append(n.text)\n",
    "\n",
    "\n",
    "    for tag in soup.findAll('div', attrs={'class':\"small-12 content-column\"}):\n",
    "        for tag2 in tag.findAll('div',attrs={'class':\"product-info beer-product-info\"}):\n",
    "\n",
    "            for c in tag2.findAll('dd',{'class':\"small-6 medium-9 columns js-beer-volume\"}):\n",
    "                contenu.append(int((c.text.strip())[0:2]))\n",
    "\n",
    "            for de in tag2.findAll('dd',{'class':\"small-6 medium-9 columns\"}):\n",
    "                val=re.search('([0-9]+,[0-9]+)%', de.text.strip())\n",
    "                if val:\n",
    "                    d=str(val.group(1)).replace(',','.')\n",
    "                    degre.append(float(d[0:4]))\n",
    "            for ori in tag2.findAll('dd',{'class':\"small-6 medium-9 columns js-beer-country\"}):\n",
    "                origine.append(ori.text.strip())\n",
    "            data=[]\n",
    "            for bra in tag2.findAll('dd'):\n",
    "                value=bra.text\n",
    "                data.append(value)\n",
    "            style.append(data[0].strip())\n",
    "            \n",
    "    beer_infos = {\n",
    "        'Nom': nom[0],\n",
    "        'Style': style[0],\n",
    "        'Contenu': contenu[0],\n",
    "        'Degré d’alcool': degre[0],\n",
    "        'Origine': origine[0],\n",
    "        'Brasseur': data[4].strip()\n",
    "    }\n",
    "    \n",
    "    \n",
    "    return beer_infos\n",
    "extract_beer_infos(url)"
   ]
  },
  {
   "cell_type": "code",
   "execution_count": 371,
   "metadata": {
    "id": "Tzape50OwnP9"
   },
   "outputs": [],
   "source": [
    "# partie B-2\n",
    "URL_BEERLIST_FRANCE = \"https://www.beerwulf.com/fr-FR/api/search/searchProducts?country=France\"#&container=Bouteille\"\n",
    "\n",
    "def extract_beer_list_infos(url):\n",
    "    # Collecter les pages de bières à partir du JSON\n",
    "    beer_pages = []\n",
    "    r=requests.get(url)\n",
    "    data1=r.json()\n",
    "    \n",
    "    for element in data1['items']:\n",
    "        beer_pages.append(element['contentReference'])\n",
    "    # Sequential version (slow):\n",
    "    beers = []\n",
    "    for link in beer_pages:    \n",
    "        \n",
    "        beers.append(extract_beer_infos('https://www.beerwulf.com/' + link))\n",
    "    # Facultatif\n",
    "    # Parallel version (faster):\n",
    "    # beers = []\n",
    "    \n",
    "    return beers\n",
    "\n",
    "#extract_beer_list_infos(URL_BEERLIST_FRANCE)"
   ]
  },
  {
   "cell_type": "code",
   "execution_count": 373,
   "metadata": {
    "id": "ceoow-FWwnP9"
   },
   "outputs": [],
   "source": [
    "import unittest\n",
    "\n",
    "class Session4Tests(unittest.TestCase):\n",
    "    def test_01_get_prices_from_url_page2(self):\n",
    "        prices = get_prices_from_url(URL_PAGE2)\n",
    "        # We should have found 3 products:\n",
    "        self.assertIsInstance(prices, dict)\n",
    "        self.assertEqual(len(prices), 3)\n",
    "        self.assertIn('Personal', prices)\n",
    "        self.assertIn('Small Business', prices)\n",
    "        self.assertIn('Enterprise', prices)\n",
    "        \n",
    "        personal = prices['Personal']\n",
    "        self.assertIn('price', personal)\n",
    "        self.assertIn('storage', personal)\n",
    "        self.assertIn('databases', personal)\n",
    "        self.assertEqual(personal['price'], '$5')\n",
    "        self.assertEqual(personal['storage'], '1GB')\n",
    "        self.assertEqual(personal['databases'], 1)\n",
    "        \n",
    "    def test_02_get_prices_from_url_page3(self):\n",
    "        prices = get_prices_from_url(URL_PAGE3)\n",
    "        self.assertIsInstance(prices, dict)\n",
    "        self.assertEqual(len(prices), 4)\n",
    "        self.assertEqual(\n",
    "            prices['Privilege'],\n",
    "            {'databases': 100, 'price': '$99', 'storage': '1TB'}\n",
    "        )\n",
    "    \n",
    "    def test_03_extract_beer_list_infos(self):\n",
    "        infos = extract_beer_list_infos(URL_BEERLIST_FRANCE)\n",
    "        self.assertIsInstance(infos, list)\n",
    "        self.assertGreater(len(infos), 1)\n",
    "        # Contenu = int\n",
    "        # Degré d’alcool = float\n",
    "        for beer in infos:\n",
    "            self.assertIsInstance(beer['Nom'], str)\n",
    "            self.assertIsInstance(beer['Style'], str)\n",
    "            self.assertIsInstance(beer['Contenu'], int)\n",
    "            self.assertIsInstance(beer['Degré d’alcool'], float)\n",
    "            self.assertEqual(beer['Origine'], \"France\")\n",
    "            self.assertIsInstance(beer['Brasseur'], str)\n",
    "\n",
    "            \n",
    "def run_tests():\n",
    "    test_suite = unittest.makeSuite(Session4Tests)\n",
    "    runner = unittest.TextTestRunner(verbosity=2)\n",
    "    runner.run(test_suite)"
   ]
  },
  {
   "cell_type": "code",
   "execution_count": 374,
   "metadata": {
    "id": "n-ENtCQTwnP-"
   },
   "outputs": [
    {
     "name": "stderr",
     "output_type": "stream",
     "text": [
      "test_01_get_prices_from_url_page2 (__main__.Session4Tests) ... ok\n",
      "test_02_get_prices_from_url_page3 (__main__.Session4Tests) ... ok\n",
      "test_03_extract_beer_list_infos (__main__.Session4Tests) ... ok\n",
      "\n",
      "----------------------------------------------------------------------\n",
      "Ran 3 tests in 2.697s\n",
      "\n",
      "OK\n"
     ]
    }
   ],
   "source": [
    "if __name__ == '__main__':\n",
    "    run_tests()"
   ]
  },
  {
   "cell_type": "code",
   "execution_count": null,
   "metadata": {},
   "outputs": [],
   "source": []
  },
  {
   "cell_type": "code",
   "execution_count": null,
   "metadata": {},
   "outputs": [],
   "source": []
  }
 ],
 "metadata": {
  "colab": {
   "provenance": []
  },
  "kernelspec": {
   "display_name": "Python 3 (ipykernel)",
   "language": "python",
   "name": "python3"
  },
  "language_info": {
   "codemirror_mode": {
    "name": "ipython",
    "version": 3
   },
   "file_extension": ".py",
   "mimetype": "text/x-python",
   "name": "python",
   "nbconvert_exporter": "python",
   "pygments_lexer": "ipython3",
   "version": "3.9.7"
  }
 },
 "nbformat": 4,
 "nbformat_minor": 1
}
